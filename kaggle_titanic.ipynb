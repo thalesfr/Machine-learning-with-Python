{
 "cells": [
  {
   "cell_type": "markdown",
   "metadata": {},
   "source": [
    "# Predicting survivals in the Titanic disaster \n",
    "In this notebook I am going to employ machine learning techniques to predict who survived in the Titanic disaster based on data in the Kaggle website (https://www.kaggle.com/c/titanic). More details can be found in the link above.\n",
    "\n",
    "After importing the relevant packages I will prepare the data such that it can be fed to learning algorithms. "
   ]
  },
  {
   "cell_type": "code",
   "execution_count": 1,
   "metadata": {},
   "outputs": [],
   "source": [
    "import sys\n",
    "import numpy as np\n",
    "import numpy.random as npr\n",
    "import scipy as sp\n",
    "import pandas as pd\n",
    "import matplotlib as mpl\n",
    "import matplotlib.pyplot as plt\n",
    "\n",
    "from math import *\n",
    "\n",
    "%matplotlib inline"
   ]
  },
  {
   "cell_type": "markdown",
   "metadata": {},
   "source": [
    "### Data preparation"
   ]
  },
  {
   "cell_type": "code",
   "execution_count": 2,
   "metadata": {},
   "outputs": [],
   "source": [
    "# Prepare the date such that it can be used by learning algorithms. Most of it consists in\n",
    "# replacing strings by numbers. \n",
    "def prepare_data(data):\n",
    "    # Add two new features: Title and Family.\n",
    "    new_columns = ['Title', 'Family']\n",
    "    df = pd.DataFrame(np.zeros((data.shape[0], 2)), columns=new_columns)\n",
    "    data = pd.concat([data, df], axis=1)\n",
    "    \n",
    "    # Set null values to -1.\n",
    "    data = data.fillna(-1)\n",
    "    \n",
    "    \n",
    "    # Define the set of names.\n",
    "    name_set = set()\n",
    "    \n",
    "    for i in data.index:\n",
    "        # Get family name.\n",
    "        name_split = data.loc[i, 'Name'].split(',')\n",
    "        name = name_split[0]\n",
    "\n",
    "        if name not in name_set:\n",
    "            name_set.add(name)\n",
    "        elif data.loc[i, 'Parch'] == 0 and data.loc[i, 'SibSp'] == 0:\n",
    "            while name in name_set:\n",
    "                name = name + '0'\n",
    "\n",
    "            name_set.add(name)\n",
    "\n",
    "        data.loc[i, 'Name'] = name\n",
    "        \n",
    "        # Get title. \n",
    "        # The title is restricted to be 'Mister.', 'Ms.', 'Master.', and 'Miss.'.\n",
    "        name_split = name_split[1].split()\n",
    "        title = name_split[0]\n",
    "        \n",
    "        if title != 'Master.' and data.loc[i, 'Sex'] == 'male':\n",
    "            title = 'Mr.'\n",
    "        elif title == 'Mlle.':\n",
    "            title = 'Miss.'\n",
    "        elif title != 'Miss.' and data.loc[i, 'Sex'] == 'female':\n",
    "            title = 'Ms.'\n",
    "        \n",
    "        data.loc[i, 'Title'] = title\n",
    "        \n",
    "        # The 'Family' feature is 1 if Parch > 0 and SibSp > 0 and zero otherwise.\n",
    "        if (data.loc[i, 'Parch'] > 0) and (data.loc[i, 'SibSp'] > 0):\n",
    "            data.loc[i, 'Family'] = 1\n",
    "\n",
    "    # Define dictionaries to convert string data to integers.\n",
    "    name_dict = {name: i for i, name in enumerate(name_set)}\n",
    "    title_dict = {'Miss.': 0, 'Master.': 1, 'Ms.': 2, 'Mr.': 3}\n",
    "    sex_dict = {'female': 0, 'male': 1}\n",
    "    \n",
    "    ticket_set = set(data.loc[:, 'Ticket'])\n",
    "    if -1 in ticket_set:\n",
    "        ticket_set.remove(-1)\n",
    "    ticket_dict = {ticket: i for i, ticket in enumerate(ticket_set)}\n",
    "    \n",
    "    cabin_set = set(data.loc[:, 'Cabin'])\n",
    "    if -1 in cabin_set:\n",
    "        cabin_set.remove(-1)\n",
    "    cabin_dict = {cabin: i for i, cabin in enumerate(cabin_set)}\n",
    "    \n",
    "    port_dict = {'C': 0, 'Q': 1, 'S': 2}\n",
    "    \n",
    "    # Parameter tranformation.\n",
    "    for i in data.index:\n",
    "        # Name to int.\n",
    "        name = data.loc[i, 'Name']\n",
    "        data.loc[i, 'Name'] = name_dict[name] \n",
    "        # Title to int.\n",
    "        data.loc[i, 'Title'] = title_dict[data.loc[i, 'Title']]\n",
    "        # Sex to int.\n",
    "        data.loc[i, 'Sex'] = sex_dict.get(data.loc[i, 'Sex'], -1)\n",
    "        # Embarked to int.\n",
    "        data.loc[i, 'Embarked'] = port_dict.get(data.loc[i, 'Embarked'], -1)\n",
    "        # Ticket to int.\n",
    "        data.loc[i, 'Ticket'] = ticket_dict.get(data.loc[i, 'Ticket'], -1)\n",
    "        # Cabin to int.\n",
    "        data.loc[i, 'Cabin'] = cabin_dict.get(data.loc[i, 'Cabin'], -1)\n",
    "    \n",
    "    # Set data type to float32.\n",
    "    data = data.astype('float32')\n",
    "    return data\n",
    "\n",
    "def fill_nulls(data):\n",
    "    # Here we try to make some reasonable assumptions for the null values.\n",
    "    # Remember that those values were replaced by -1.\n",
    "    \n",
    "    # If SibSp is null, set SibSp to zero.\n",
    "    mask = (data.loc[:, 'SibSp'] == -1)\n",
    "    data.loc[mask, 'SibSp'] = 0\n",
    "\n",
    "    # If Parch is null, set Parch to zero.\n",
    "    mask = (data.loc[:, 'Parch'] == -1)\n",
    "    data.loc[mask, 'Parch'] = 0\n",
    "\n",
    "    # Null valuesfor the Fare are estimated as the average fare in each class.\n",
    "    for c in [1, 2, 3]:\n",
    "        mask = (data.loc[:, 'Pclass'] == c) & (data.loc[:, 'Fare'] > -1)\n",
    "        fares = data.loc[mask, 'Fare'].values\n",
    "        mean_fare = np.mean(fares)\n",
    "        mask = (data.loc[:, 'Pclass'] == c) & (data.loc[:, 'Fare'] == -1)\n",
    "        data.loc[mask, 'Fare'] = mean_fare\n",
    "\n",
    "    # Mask of the non-null ages.\n",
    "    ages = (data.loc[:, 'Age'] > -1)\n",
    "\n",
    "    # Null values for the Age are estimated using different strategies.\n",
    "    # If the passenger is a 'Master.', we use the average age in this group.\n",
    "    masters = (data.loc[:, 'Title'] == 1)\n",
    "    mean_age = np.mean(data.loc[masters & ages, 'Age'].values)\n",
    "    data.loc[masters & ~ages, 'Age'] = mean_age\n",
    "\n",
    "    # If the passenger is a 'Miss.' and has Parch > 0, we use the average age\n",
    "    # in this group.\n",
    "    misses = (data.loc[:, 'Title'] == 0)\n",
    "    has_Parch = (data.loc[:, 'Parch'] > 0)\n",
    "    mean_age = np.mean(data.loc[misses & has_Parch & ages, 'Age'].values)\n",
    "    data.loc[misses & has_Parch & (~ages), 'Age'] = mean_age\n",
    "\n",
    "    # If the passenger is a 'Miss.' and has Parch = 0, we use the average age\n",
    "    # in this group.\n",
    "    mean_age = np.mean(data.loc[misses & (~has_Parch) & ages, 'Age'].values)\n",
    "    data.loc[misses & (~has_Parch) & (~ages), 'Age'] = mean_age\n",
    "\n",
    "    # If the passenger is a 'Mister.' or a 'Ms.' we use the average age for each \n",
    "    # title in each class group.\n",
    "    for c in [1, 2, 3]:\n",
    "        class_c = (data.loc[:, 'Pclass'] == c)\n",
    "        for title in [2, 3]:# Corresponds to ['Mr.', 'Ms.'].\n",
    "            mask_title = (data.loc[:, 'Title'] == title)#(data.loc[:, 'Title'] == title_dict[title])\n",
    "            mask = ages & class_c & mask_title\n",
    "            mean_age = np.mean(data.loc[mask, 'Age'].values)\n",
    "            mask = ~ages & class_c & mask_title\n",
    "            data.loc[mask, 'Age'] = mean_age\n",
    "            \n",
    "    return data"
   ]
  },
  {
   "cell_type": "code",
   "execution_count": 3,
   "metadata": {},
   "outputs": [],
   "source": [
    "from sklearn import model_selection\n",
    "\n",
    "# Read training data.\n",
    "data = pd.read_csv('train.csv')\n",
    "input_train, labels_train = data.iloc[:, 2: ].copy(), data.iloc[:, 1].copy()\n",
    "\n",
    "# Read final test data. Predictions using this data are used by \n",
    "# Kaggle to measure the performance of your algorithm.\n",
    "input_test = pd.read_csv('test.csv')\n",
    "input_test = input_test.set_index(np.arange(input_test.shape[0]) + input_train.shape[0])\n",
    "\n",
    "# Prepare both training and test data.\n",
    "full_input = pd.concat([input_train, input_test.iloc[:, 1: ]].copy(), axis=0)\n",
    "full_input = prepare_data(full_input)\n",
    "full_input = fill_nulls(full_input)\n",
    "\n",
    "# Select features that I deemed relevant for the classification task.\n",
    "input_fields = ['Pclass', 'Name', 'Sex', 'Age', 'SibSp', 'Parch', 'Fare', 'Title', \n",
    "                'Family']\n",
    "full_input = full_input.loc[:, input_fields]\n",
    "input_train = full_input.loc[labels_train.index, :]\n",
    "input_test = full_input.loc[input_test.index, :]\n",
    "\n",
    "# Create numpy arrays.\n",
    "X = input_train.values\n",
    "y = labels_train.values\n",
    "\n",
    "# Shuffle and devide sets.\n",
    "Xtrain, Xtest, ytrain, ytest = model_selection.train_test_split(X, y, test_size=0.1)"
   ]
  },
  {
   "cell_type": "markdown",
   "metadata": {},
   "source": [
    "## Tree\n",
    "We first attempt to solve this task using trees. In order to avoid very alrge trees that are doomed to overfit we employ pruning.\n",
    "### Single Tree with pruning"
   ]
  },
  {
   "cell_type": "code",
   "execution_count": 4,
   "metadata": {},
   "outputs": [],
   "source": [
    "import bisect\n",
    "from sklearn import tree\n",
    "\n",
    "# In order to find the ideal pruning coefficient, I am going to use cross-validation.\n",
    "divisions = 7\n",
    "accuracy_array = np.zeros((10**4, divisions, 2))\n",
    "\n",
    "for j in range(divisions):\n",
    "    # Select cross-validation set \n",
    "    shift = Xtrain.shape[0]//divisions\n",
    "    Xvalidation = Xtrain[0: shift, :]\n",
    "    yvalidation = ytrain[0: shift]\n",
    "    Xtrain_j = Xtrain[shift: , :]\n",
    "    ytrain_j = ytrain[shift: ]\n",
    "    \n",
    "    # build tree and prune it\n",
    "    clf = tree.DecisionTreeClassifier(max_depth=10, \n",
    "                                      min_samples_leaf=5,\n",
    "                                      random_state=0)\n",
    "    path = clf.cost_complexity_pruning_path(Xtrain_j, ytrain_j)\n",
    "    ccp_alphas, impurities = path.ccp_alphas, path.impurities\n",
    "    \n",
    "    # create a list of pruned trees\n",
    "    clfs = []\n",
    "    for ccp_alpha in ccp_alphas:\n",
    "        clf = tree.DecisionTreeClassifier(ccp_alpha=ccp_alpha,\n",
    "                                          random_state=0)\n",
    "        clf.fit(Xtrain_j, ytrain_j)\n",
    "        clfs.append(clf)\n",
    "        \n",
    "    # create list with relevant values for the pruning constant alpha\n",
    "    if j == 0:\n",
    "        alpha_array = np.linspace(ccp_alphas[0], ccp_alphas[-1], accuracy_array.shape[0])\n",
    "        \n",
    "    # calculate score in the training and validation sets for all pruned trees\n",
    "    train_scores = [clf.score(Xtrain_j, ytrain_j) for clf in clfs]\n",
    "    validation_scores = [clf.score(Xvalidation, yvalidation) for clf in clfs]\n",
    "    \n",
    "    # the scores are saved in accuracy list in accordance with the value of alpha\n",
    "    for i, alpha in enumerate(alpha_array):\n",
    "        index = bisect.bisect_left(ccp_alphas, alpha)\n",
    "        if index == 0:\n",
    "            index = 1\n",
    "        accuracy_array[i, j, 0] = train_scores[index - 1]\n",
    "        accuracy_array[i, j, 1] = validation_scores[index - 1]\n",
    "\n",
    "    Xtrain = np.roll(Xtrain, shift, axis=0)\n",
    "    ytrain = np.roll(ytrain, shift)"
   ]
  },
  {
   "cell_type": "code",
   "execution_count": 5,
   "metadata": {},
   "outputs": [
    {
     "data": {
      "image/png": "[encoded data removed]",
      "text/plain": [
       "<Figure size 432x288 with 1 Axes>"
      ]
     },
     "metadata": {
      "needs_background": "light"
     },
     "output_type": "display_data"
    }
   ],
   "source": [
    "# plot the average training and validation score\n",
    "fig, ax = plt.subplots()\n",
    "\n",
    "acc_mean = np.mean(accuracy_array[:, :, 0], axis=1)\n",
    "ax.plot(alpha_array, acc_mean, label='training score')\n",
    "\n",
    "acc_mean = np.mean(accuracy_array[:, :, 1], axis=1)\n",
    "acc_std = np.std(accuracy_array[:, :, 1], axis=1)\n",
    "ax.plot(alpha_array, acc_mean, label='validation score')\n",
    "ax.fill_between(alpha_array, acc_mean - acc_std, acc_mean + acc_std, color='C1', alpha=0.4)\n",
    "\n",
    "ax.set_ylabel('Score')\n",
    "ax.set_xlabel(r'Pruning constant $\\alpha$')\n",
    "ax.set_xlim(0, 0.03)\n",
    "ax.legend()\n",
    "ax.grid()"
   ]
  },
  {
   "cell_type": "markdown",
   "metadata": {},
   "source": [
    "As the pruning constant alpha increases the overfitting deceases, as one would expect. Note however that the curves represent the average score computed using cross-validation. In order to have estimative of the fluctuation in the validation score we filled the region within one standard deviation of distance from the average validation score. As we can see,  the fluctuations are very substantial. This confirms a well known fact: trees are unstable. Small changes in the training data can lead to very different classifiers with very different performances.\n",
    "\n",
    "In the following we are going to select a value of alpha that performs well, build a tree with the complete training set, and test the tree on the test set. Here I do not see a reason for being very careful with the choice of alpha since we have seen that trees are unstable. Possibly values between 0.005 and 0.01 will perform equally well.  "
   ]
  },
  {
   "cell_type": "code",
   "execution_count": 6,
   "metadata": {},
   "outputs": [
    {
     "name": "stdout",
     "output_type": "stream",
     "text": [
      "score: 0.822\n",
      "tree depth: 3\n",
      "number of leaves: 5\n"
     ]
    },
    {
     "data": {
      "image/png": "[encoded data removed]",
      "text/plain": [
       "<Figure size 432x288 with 1 Axes>"
      ]
     },
     "metadata": {
      "needs_background": "light"
     },
     "output_type": "display_data"
    }
   ],
   "source": [
    "# tree with a specific alpha\n",
    "clf = tree.DecisionTreeClassifier(ccp_alpha=0.009)\n",
    "clf.fit(Xtrain, ytrain)\n",
    "print('score: %.3f' % clf.score(Xtest, ytest))\n",
    "print('tree depth: %d' % clf.tree_.max_depth)\n",
    "print('number of leaves: %d' % clf.tree_.n_leaves)\n",
    "tree_img = tree.plot_tree(clf)"
   ]
  },
  {
   "cell_type": "code",
   "execution_count": 7,
   "metadata": {},
   "outputs": [
    {
     "data": {
      "text/plain": [
       "'titanic_tree.pdf'"
      ]
     },
     "execution_count": 7,
     "metadata": {},
     "output_type": "execute_result"
    }
   ],
   "source": [
    "# save a representation of the tree in pdf\n",
    "import graphviz\n",
    "\n",
    "dot_data = tree.export_graphviz(clf, feature_names=input_fields, class_names=['0', '1'], \n",
    "                                out_file=None)\n",
    "graph = graphviz.Source(dot_data) \n",
    "graph.render(\"titanic_tree\") "
   ]
  },
  {
   "cell_type": "markdown",
   "metadata": {},
   "source": [
    "## Bagging\n",
    "In order to tacle the problem of instability of trees, I am going to the Bagging ensemble technique. This technique consists of using bootstrap samples to train a large number of trees. In this case, the class for a specific set of features is given by majority vote. An interesting feature of the Bagging ensemble is the fact that one can use out-of-bag samples to estimate the error of the classifier and therefore avoid overfitting. "
   ]
  },
  {
   "cell_type": "code",
   "execution_count": 8,
   "metadata": {},
   "outputs": [
    {
     "name": "stdout",
     "output_type": "stream",
     "text": [
      "sample share: 0.20, score: 0.833\n",
      "sample share: 0.25, score: 0.835\n",
      "sample share: 0.30, score: 0.838\n",
      "sample share: 0.35, score: 0.836\n",
      "sample share: 0.40, score: 0.836\n",
      "sample share: 0.45, score: 0.836\n",
      "sample share: 0.50, score: 0.833\n"
     ]
    }
   ],
   "source": [
    "from sklearn import ensemble\n",
    "\n",
    "for sample_share in np.linspace(0.2, 0.5, 7):   \n",
    "    class_tree = tree.DecisionTreeClassifier(max_depth=8)\n",
    "    clf = ensemble.BaggingClassifier(class_tree, \n",
    "                                     n_estimators=3000, \n",
    "                                     max_samples=sample_share, \n",
    "                                     oob_score=True)\n",
    "    clf.fit(Xtrain, ytrain)      \n",
    "    print(\"sample share: %.2f, score: %.3f\" % (sample_share, clf.oob_score_))"
   ]
  },
  {
   "cell_type": "markdown",
   "metadata": {},
   "source": [
    "Note that the pruned tree had a depth of 3 while the elements of the Bagging ensemble have a depth of 8. When working with a Bagging ensemble one tries to minimize variance with the use of an ensemble. A very constrained tree, such as the pruned tree considered in the last subsection, is not expected to perform well in this case, since the variance is relatively small and the bias is relatively large. Probably the use of a bagging ensemble will not be very advantageous. However, if we allow high variance trees with low bias, we can achieve good results. Indeed the best results I obtained were obtained with bagged trees with depth 8 . "
   ]
  },
  {
   "cell_type": "code",
   "execution_count": 9,
   "metadata": {},
   "outputs": [
    {
     "name": "stdout",
     "output_type": "stream",
     "text": [
      "Score in the test set: 0.844\n"
     ]
    }
   ],
   "source": [
    "class_tree = tree.DecisionTreeClassifier(max_depth=8)\n",
    "clf = ensemble.BaggingClassifier(class_tree, n_estimators=3000, max_samples=0.35, oob_score=True)\n",
    "clf.fit(Xtrain, ytrain)\n",
    "print('Score in the test set: %.3f' % clf.score(Xtest, ytest))"
   ]
  },
  {
   "cell_type": "markdown",
   "metadata": {},
   "source": [
    "## Gradient boosting\n",
    "Here we are going to apply Gradient boosting to the classification task. We are going to use cross-validation to see how unstable this method is."
   ]
  },
  {
   "cell_type": "code",
   "execution_count": 10,
   "metadata": {},
   "outputs": [
    {
     "name": "stdout",
     "output_type": "stream",
     "text": [
      "Training score: 0.875 +/- 0.005\n",
      "Validation score: 0.828 +/- 0.039\n"
     ]
    }
   ],
   "source": [
    "acc_array = np.zeros((2, 100))\n",
    "\n",
    "for i in range(acc_array.shape[1]):\n",
    "    # shuffle rows\n",
    "    permutation = np.random.permutation(np.arange(X.shape[0]))\n",
    "    X = X[permutation, :]\n",
    "    y = y[permutation]\n",
    "    \n",
    "    Xval = X[-80: , :]\n",
    "    yval = y[-80: ]\n",
    "    Xtrain = X[0: -80, :]\n",
    "    ytrain = y[0: -80]\n",
    "\n",
    "    clf = ensemble.GradientBoostingClassifier(n_estimators=100, \n",
    "                                              max_depth=3,\n",
    "                                              learning_rate=0.05)  \n",
    "    clf.fit(Xtrain, ytrain)\n",
    "    \n",
    "    acc_array[0, i] = clf.score(Xtrain, ytrain)\n",
    "    acc_array[1, i] = clf.score(Xval, yval)\n",
    "    \n",
    "print('Training score: %.3f +/- %.3f' % (np.mean(acc_array[0, :]), np.std(acc_array[0, :])))\n",
    "print('Validation score: %.3f +/- %.3f' % (np.mean(acc_array[1, :]), np.std(acc_array[1, :])))"
   ]
  },
  {
   "cell_type": "code",
   "execution_count": 11,
   "metadata": {},
   "outputs": [
    {
     "data": {
      "text/plain": [
       "<matplotlib.legend.Legend at 0x7fa4ccc60d90>"
      ]
     },
     "execution_count": 11,
     "metadata": {},
     "output_type": "execute_result"
    },
    {
     "data": {
      "image/png": "[encoded data removed]",
      "text/plain": [
       "<Figure size 432x288 with 1 Axes>"
      ]
     },
     "metadata": {
      "needs_background": "light"
     },
     "output_type": "display_data"
    }
   ],
   "source": [
    "fig, ax = plt.subplots()\n",
    "bins = np.linspace(0.77, 0.9, 12)\n",
    "ax.hist(acc_array[0, :], bins=bins, label='training', alpha=0.5)\n",
    "ax.hist(acc_array[1, :], bins=bins, label='test', alpha=0.5, color='C1')\n",
    "ax.set_xlabel('Score')\n",
    "ax.legend()"
   ]
  },
  {
   "cell_type": "markdown",
   "metadata": {},
   "source": [
    "The figure above shows that some estimator ensembles did not perform well on the validation set. On the other hand, the estimator ensemble performed relatively well on the training set. We can draw two conclusion here:\n",
    "- The classifier is unstable. We conclude that from the fact that classifiers trained using different data have very different performance.\n",
    "- The classifier is overfitting. We conclude that from the fact that the training score is usually larger than the validation score.\n",
    "\n",
    "In the following we try to correct these problems by using early stop and shallow trees."
   ]
  },
  {
   "cell_type": "code",
   "execution_count": 12,
   "metadata": {},
   "outputs": [
    {
     "name": "stdout",
     "output_type": "stream",
     "text": [
      "Training score: 0.827 +/- 0.005\n",
      "Validation score: 0.819 +/- 0.042\n"
     ]
    }
   ],
   "source": [
    "acc_array = np.zeros((2, 100))\n",
    "# We are going to fit 10 ensembles, choosing different validation sets, to make sure that our \n",
    "# results are reliable.\n",
    "for i in range(acc_array.shape[1]):\n",
    "    # shuffle rows\n",
    "    permutation = np.random.permutation(np.arange(X.shape[0]))\n",
    "    X = X[permutation, :]\n",
    "    y = y[permutation]\n",
    "    \n",
    "    Xval = X[-80: , :]\n",
    "    yval = y[-80: ]\n",
    "    Xtrain = X[0: -80, :]\n",
    "    ytrain = y[0: -80]\n",
    "\n",
    "    # We set 10% of X aside to be our 'second' validation set. If after 5 iterations there is no \n",
    "    # improvement in the validation score we stop the fitting.\n",
    "    clf = ensemble.GradientBoostingClassifier(n_estimators=50, \n",
    "                                              validation_fraction=0.1, \n",
    "                                              learning_rate=0.05, \n",
    "                                              n_iter_no_change=5, \n",
    "                                              tol=2e-3, \n",
    "                                              max_leaf_nodes=3)\n",
    "    clf.fit(Xtrain, ytrain)\n",
    "    \n",
    "    acc_array[0, i] = clf.score(Xtrain, ytrain)\n",
    "    acc_array[1, i] = clf.score(Xval, yval)\n",
    "    \n",
    "print('Training score: %.3f +/- %.3f' % (np.mean(acc_array[0, :]), np.std(acc_array[0, :])))\n",
    "print('Validation score: %.3f +/- %.3f' % (np.mean(acc_array[1, :]), np.std(acc_array[1, :])))"
   ]
  },
  {
   "cell_type": "code",
   "execution_count": 13,
   "metadata": {},
   "outputs": [
    {
     "data": {
      "text/plain": [
       "<matplotlib.legend.Legend at 0x7fa4b58cff10>"
      ]
     },
     "execution_count": 13,
     "metadata": {},
     "output_type": "execute_result"
    },
    {
     "data": {
      "image/png": "[encoded data removed]",
      "text/plain": [
       "<Figure size 432x288 with 1 Axes>"
      ]
     },
     "metadata": {
      "needs_background": "light"
     },
     "output_type": "display_data"
    }
   ],
   "source": [
    "fig, ax = plt.subplots()\n",
    "bins = np.linspace(0.77, 0.9, 12)\n",
    "ax.hist(acc_array[0, :], bins=bins, label='training', alpha=0.5)\n",
    "ax.hist(acc_array[1, :], bins=bins, label='validation', alpha=0.5, color='C1')\n",
    "ax.legend()"
   ]
  },
  {
   "cell_type": "markdown",
   "metadata": {},
   "source": [
    "The figure above shows that our attempt to reduce the overfitting was not successful. We did manage to bring the training score and the validation score closer to each other, however the classifier is still unstable. This can be seen in the figure by the fact that the orange histogram is much wider than the blue histogram. The instability of the classifier is a problem that still needs to be tackled."
   ]
  },
  {
   "cell_type": "markdown",
   "metadata": {},
   "source": [
    "### Random Forests\n",
    "Now we are going to apply the random forest classifier to out problem."
   ]
  },
  {
   "cell_type": "code",
   "execution_count": 15,
   "metadata": {},
   "outputs": [
    {
     "name": "stdout",
     "output_type": "stream",
     "text": [
      "Out-of-bag score (10 trials): 0.823 +/- 0.004.\n",
      "Test score: 0.856\n"
     ]
    }
   ],
   "source": [
    "from sklearn.ensemble import RandomForestClassifier\n",
    "\n",
    "oob_score = np.zeros(10)\n",
    "for i in range(10):\n",
    "    clf = RandomForestClassifier(max_leaf_nodes=16,\n",
    "                                 n_estimators=200,\n",
    "                                 max_features=4,\n",
    "                                 max_samples=0.5, \n",
    "                                 oob_score=True, \n",
    "                                 random_state=None)\n",
    "    clf.fit(Xtrain, ytrain)\n",
    "    oob_score[i] = clf.oob_score_\n",
    "\n",
    "oob_mean, oob_std = np.mean(oob_score), np.std(oob_score)\n",
    "print('Out-of-bag score (10 trials): %.3f +/- %.3f.' %(oob_mean, oob_std))\n",
    "print('Test score: %.3f' %clf.score(Xtest, ytest))"
   ]
  },
  {
   "cell_type": "markdown",
   "metadata": {},
   "source": [
    "The random forest classifier needed some tuning to obtian the above scores, however it was quite easy to achieve. Even without any tuning the RF classifier was performing quite well. "
   ]
  },
  {
   "cell_type": "code",
   "execution_count": null,
   "metadata": {},
   "outputs": [],
   "source": []
  }
 ],
 "metadata": {
  "kernelspec": {
   "display_name": "venv",
   "language": "python",
   "name": "venv"
  },
  "language_info": {
   "codemirror_mode": {
    "name": "ipython",
    "version": 3
   },
   "file_extension": ".py",
   "mimetype": "text/x-python",
   "name": "python",
   "nbconvert_exporter": "python",
   "pygments_lexer": "ipython3",
   "version": "3.8.5"
  }
 },
 "nbformat": 4,
 "nbformat_minor": 4
}
